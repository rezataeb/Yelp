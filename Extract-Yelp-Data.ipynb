{
 "cells": [
  {
   "cell_type": "code",
   "execution_count": 1,
   "metadata": {},
   "outputs": [],
   "source": [
    "import requests\n",
    "\n",
    "client_ID = 'h3K1EQB-sgvKU4gBUR0g9A'\n",
    "client_secret= '4GG9nAlnZUrlNEDvArUJTd9VzXFY68pWfdxdIX5wOgF4eWAkiZEvBpnVh850ccpc'\n",
    "data = {'grant_type': 'client_credentials',\n",
    "         'client_id': client_ID,\n",
    "         'client_secret': client_secret}\n",
    "token = requests.post('https://api.yelp.com/oauth2/token', data = data)\n",
    "access_token = token.json()['access_token']\n",
    "headers = {'Authorization': 'bearer %s' % access_token}\n",
    "biz_id = 'kiku-sushi-burnaby'\n",
    "url = 'https://api.yelp.com/v3/businesses/%s' % biz_id\n",
    "response = requests.get(url = url, headers = headers)\n",
    "response_data = response.json()\n",
    "\n"
   ]
  }
 ],
 "metadata": {
  "kernelspec": {
   "display_name": "Python 3",
   "language": "python",
   "name": "python3"
  },
  "language_info": {
   "codemirror_mode": {
    "name": "ipython",
    "version": 3
   },
   "file_extension": ".py",
   "mimetype": "text/x-python",
   "name": "python",
   "nbconvert_exporter": "python",
   "pygments_lexer": "ipython3",
   "version": "3.6.3"
  }
 },
 "nbformat": 4,
 "nbformat_minor": 2
}
